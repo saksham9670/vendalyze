{
 "cells": [
  {
   "cell_type": "code",
   "execution_count": 3,
   "id": "a8646ef3-f439-4a99-ba0e-10a0601f8e5f",
   "metadata": {},
   "outputs": [],
   "source": [
    "#jai saraswati mata\n",
    "import pandas as pd\n",
    "import os\n",
    "from sqlalchemy import create_engine\n",
    "import logging\n",
    "import time\n",
    "#here i will create the log_funtion for see the aye error is occuring in the code.\n",
    "logging.basicConfig(\n",
    "    filename=\"logs/ingestion_db.log\",\n",
    "    level=logging.DEBUG,\n",
    "    format=\"%(asctime)s - %(levelname)s - %(message)s\",\n",
    "    filemode=\"a\"\n",
    ")\n",
    "#Here we will use sqlite for sql quries.\n",
    "engine=create_engine('sqlite:///inventory.db')\n",
    "#If our data is conming from server and we have to store the sata continuasely in data base.so we will have to type the script.\n",
    "def ingest_db(df,table_name,engine):\n",
    "    '''thise function will ingest the dataframe into database table'''\n",
    "    df.to_sql(table_name, con = engine,if_exists='replace',index=False)\n",
    "#Remve the .ipynd file\n",
    "def load_raw_data():\n",
    "    '''thise function will load the CSVS as DataFrame and ingest into db'''\n",
    "    start = time.time()\n",
    "    for file in os.listdir('vendor_data'):\n",
    "        if \".csv\" in file:\n",
    "            df=pd.read_csv('vendor_data/'+file)\n",
    "            logging.info(f'Ingesting {file} in db')#if you want to print any normal message\n",
    "            ingest_db(df,file[:-4],engine)\n",
    "    end = time.time()\n",
    "    total_time = (end-start)/60\n",
    "    logging.info('--------Ingestion Complete---------')\n",
    "    logging.info(f'Total time taken: {total_time} minuts')\n",
    "\n",
    "#from here our script will start working .\n",
    "if __name__ == '__main__':\n",
    "    load_raw_data()\n"
   ]
  },
  {
   "cell_type": "code",
   "execution_count": 5,
   "id": "bd0a3457-d6da-407f-8a28-5f967ce2498b",
   "metadata": {},
   "outputs": [],
   "source": []
  },
  {
   "cell_type": "code",
   "execution_count": 2,
   "id": "31f2e5b7-30c0-407d-a9bd-1b75fe34fdab",
   "metadata": {},
   "outputs": [
    {
     "name": "stdout",
     "output_type": "stream",
     "text": [
      ".ipynb_checkpoints\n",
      "begin_inventory.csv\n",
      "end_inventory.csv\n",
      "purchases.csv\n",
      "purchase_prices.csv\n",
      "sales.csv\n",
      "vendor_invoice.csv\n"
     ]
    }
   ],
   "source": [
    "#first we read the directory to see all the file but as we can see that there is a file name .ipynb file we have to remove it.\n",
    "for file in os.listdir('vendor_data'):\n",
    "    print(file)"
   ]
  },
  {
   "cell_type": "code",
   "execution_count": 13,
   "id": "465e6c99-8ec0-4b0b-b776-6d8959554cb0",
   "metadata": {},
   "outputs": [
    {
     "name": "stdout",
     "output_type": "stream",
     "text": [
      "(206529, 9)\n",
      "(224489, 9)\n",
      "(2372474, 16)\n",
      "(12261, 9)\n",
      "(12825363, 14)\n",
      "(5543, 10)\n"
     ]
    }
   ],
   "source": []
  },
  {
   "cell_type": "code",
   "execution_count": 4,
   "id": "4975ae42-11da-4b2a-af3b-6fe464d64d20",
   "metadata": {},
   "outputs": [
    {
     "name": "stdout",
     "output_type": "stream",
     "text": [
      "1753958104.3622153\n"
     ]
    }
   ],
   "source": [
    "import os\n",
    "print(os.path.getmtime(\"inventory.db\"))\n",
    "\n",
    "\n",
    "\n",
    " "
   ]
  },
  {
   "cell_type": "code",
   "execution_count": 5,
   "id": "76f8e898-68f9-4db8-a7ce-d4134670f756",
   "metadata": {},
   "outputs": [
    {
     "name": "stdout",
     "output_type": "stream",
     "text": [
      "Last modified at: 2025-07-31 16:05:04\n"
     ]
    }
   ],
   "source": [
    "from datetime import datetime\n",
    "\n",
    "timestamp = 1753958104.3622153\n",
    "dt = datetime.fromtimestamp(timestamp)\n",
    "print(\"Last modified at:\", dt.strftime(\"%Y-%m-%d %H:%M:%S\"))\n"
   ]
  },
  {
   "cell_type": "code",
   "execution_count": null,
   "id": "8781a48c-159d-4a0b-918a-605224555b98",
   "metadata": {},
   "outputs": [],
   "source": []
  }
 ],
 "metadata": {
  "kernelspec": {
   "display_name": "Python 3 (ipykernel)",
   "language": "python",
   "name": "python3"
  },
  "language_info": {
   "codemirror_mode": {
    "name": "ipython",
    "version": 3
   },
   "file_extension": ".py",
   "mimetype": "text/x-python",
   "name": "python",
   "nbconvert_exporter": "python",
   "pygments_lexer": "ipython3",
   "version": "3.13.3"
  }
 },
 "nbformat": 4,
 "nbformat_minor": 5
}
